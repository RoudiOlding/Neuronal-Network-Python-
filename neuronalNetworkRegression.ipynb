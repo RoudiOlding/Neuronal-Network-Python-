{
  "nbformat": 4,
  "nbformat_minor": 0,
  "metadata": {
    "colab": {
      "provenance": []
    },
    "kernelspec": {
      "name": "python3",
      "display_name": "Python 3"
    },
    "language_info": {
      "name": "python"
    }
  },
  "cells": [
    {
      "cell_type": "markdown",
      "source": [
        "1. Cargando liberías"
      ],
      "metadata": {
        "id": "lbfhsvuCgp4H"
      }
    },
    {
      "cell_type": "code",
      "source": [
        "from google.colab import files\n",
        "\n",
        "# General data analysis/plotting\n",
        "import pandas as pd\n",
        "import matplotlib.pyplot as plt\n",
        "import numpy as np\n",
        "\n",
        "# Data preprocessing\n",
        "from sklearn.preprocessing import MinMaxScaler\n",
        "from sklearn.model_selection import train_test_split\n",
        "\n",
        "# Neural Net modules\n",
        "from tensorflow.keras import Sequential\n",
        "from keras.layers import Dense, Dropout\n",
        "from keras.callbacks import EarlyStopping"
      ],
      "metadata": {
        "id": "4ECYqOcbBviq"
      },
      "execution_count": null,
      "outputs": []
    },
    {
      "cell_type": "markdown",
      "source": [
        "2. Preparando la data"
      ],
      "metadata": {
        "id": "wx6DEMHGgtOw"
      }
    },
    {
      "cell_type": "code",
      "source": [
        "uploaded = files.upload()\n",
        "\n",
        "df = pd.read_csv(\"Datasetv2.csv\", delim_whitespace=False, header=None)\n",
        "\n",
        "nombres_caracteristicas = ['RAZABS', 'MABS', 'DABS', 'TEMP', 'CSTRANS', 'DISTRA', 'TMSERV',\n",
        "                'ED', 'HOLAB', 'METEST', 'EDU', 'HIJ', 'PES', 'ALT', 'MAS', 'ABSTI']\n",
        "\n",
        "df.columns = nombres_caracteristicas\n",
        "print(df.head())"
      ],
      "metadata": {
        "id": "_KqOzbhsgQ8H"
      },
      "execution_count": null,
      "outputs": []
    },
    {
      "cell_type": "markdown",
      "source": [
        "3. Creando el modelo"
      ],
      "metadata": {
        "id": "FSSy822ZwCiE"
      }
    },
    {
      "cell_type": "code",
      "source": [
        "X = df.drop('ABSTI', axis=1)\n",
        "y = df['ABSTI']\n",
        "\n",
        "X_train, X_test, y_train, y_test = train_test_split(X, y, test_size = 0.2, random_state = 20)\n",
        "\n",
        "from sklearn.preprocessing import StandardScaler\n",
        "scaler=StandardScaler()\n",
        "scaler.fit(X_train)\n",
        "\n",
        "X_train_scaled = scaler.transform(X_train)\n",
        "X_test_scaled = scaler.transform(X_test)"
      ],
      "metadata": {
        "id": "vxAH6hjRhBDC"
      },
      "execution_count": null,
      "outputs": []
    },
    {
      "cell_type": "code",
      "source": [
        "model = Sequential()\n",
        "model.add(Dense(128, input_dim=15, activation='relu'))\n",
        "model.add(Dense(64, activation='relu'))\n",
        "model.add(Dense(1, activation='linear'))"
      ],
      "metadata": {
        "id": "z760OIi6hylh"
      },
      "execution_count": null,
      "outputs": []
    },
    {
      "cell_type": "code",
      "source": [
        "model.compile(loss='mean_squared_error', optimizer='rmsprop', metrics=['mae'])\n",
        "model.summary()"
      ],
      "metadata": {
        "id": "-eOEzcgvwAnW"
      },
      "execution_count": null,
      "outputs": []
    },
    {
      "cell_type": "markdown",
      "source": [
        "4. Entrenando al modelo"
      ],
      "metadata": {
        "id": "IlckilHgwmP0"
      }
    },
    {
      "cell_type": "code",
      "source": [
        "history = History()\n",
        "model.fit(X_train_scaled, y_train, validation_split=0.2, epochs=100, callbacks=[history])"
      ],
      "metadata": {
        "id": "aQjihLBEwoWm"
      },
      "execution_count": null,
      "outputs": []
    },
    {
      "cell_type": "code",
      "source": [
        "from matplotlib import pyplot as plt\n",
        "loss = history.history['loss']\n",
        "val_loss = history.history['val_loss']\n",
        "epochs = range(1, len(loss) + 1)\n",
        "plt.plot(epochs, loss, 'y', label='Pérdida de entrenamiento')\n",
        "plt.plot(epochs, val_loss, 'r', label='Pérdida de validación')\n",
        "plt.title('Pérdida de entrenamiento y validación')\n",
        "plt.xlabel('Épocas')\n",
        "plt.ylabel('Pérdida')\n",
        "plt.legend()\n",
        "plt.show()\n",
        "\n",
        "# Plotear la MAE de entrenamiento y validación en cada época\n",
        "mae = history.history['mae']\n",
        "val_mae = history.history['val_mae']\n",
        "plt.plot(epochs, mae, 'y', label='MAE de entrenamiento')\n",
        "plt.plot(epochs, val_mae, 'r', label='MAE de validación')\n",
        "plt.title('MAE de entrenamiento y validación')\n",
        "plt.xlabel('Épocas')\n",
        "plt.ylabel('MAE')\n",
        "plt.legend()\n",
        "plt.show()"
      ],
      "metadata": {
        "id": "lFhpjfZIxBS_"
      },
      "execution_count": null,
      "outputs": []
    },
    {
      "cell_type": "markdown",
      "source": [
        "5. Prediciendo valores"
      ],
      "metadata": {
        "id": "VqTFM9ZB0J5s"
      }
    },
    {
      "cell_type": "code",
      "source": [
        "predictions = model.predict(X_test_scaled[:5])\n",
        "print(\"Predicted values are: \", predictions.flatten())\n",
        "print(\"Real values are: \", y_test[:5].values)"
      ],
      "metadata": {
        "id": "Tbm4w4c00Mch"
      },
      "execution_count": null,
      "outputs": []
    },
    {
      "cell_type": "markdown",
      "source": [
        "6. Comparaciones con otros modelos"
      ],
      "metadata": {
        "id": "XiOzhyiN0fVN"
      }
    },
    {
      "cell_type": "code",
      "source": [
        "#Comparison with other models..\n",
        "#Neural network - from the current code\n",
        "mse_neural, mae_neural = model.evaluate(X_test_scaled, y_test)\n",
        "print('Mean squared error from neural net: ', mse_neural)\n",
        "print('Mean absolute error from neural net: ', mae_neural)"
      ],
      "metadata": {
        "id": "HhR5wNwy0hmF"
      },
      "execution_count": null,
      "outputs": []
    }
  ]
}